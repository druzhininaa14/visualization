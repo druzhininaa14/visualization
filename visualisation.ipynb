{
  "cells": [
    {
      "cell_type": "markdown",
      "metadata": {
        "id": "f3KDv7Cs2ysv"
      },
      "source": [
        "# Визуализация данных с Matplotlib\n",
        "\n",
        "###Дружинина Анжелика\n"
      ]
    },
    {
      "cell_type": "markdown",
      "metadata": {
        "id": "OD1GgGCD2ys4"
      },
      "source": [
        "## Часть 1: предварительная обработка датафрейма"
      ]
    },
    {
      "cell_type": "markdown",
      "metadata": {
        "id": "MeargdtG2ys6"
      },
      "source": [
        "### Информация о данных\n",
        "\n",
        "Используем данные с результатами опроса преподавателей двух каталонских универсистетов (Открытый университет Каталонии и университет Помпеу Фабра), посвященного использованию Википедии в методических и академических целях.\n",
        "\n",
        "* Оригинальное описание на платформе data.world: [ссылка](https://data.world/uci/wiki4he)."
      ]
    },
    {
      "cell_type": "markdown",
      "metadata": {
        "id": "_IoLrJIv2ys8"
      },
      "source": [
        "### Загрузка данных \n",
        "\n",
        "Импортируем библиотеку `pandas` :"
      ]
    },
    {
      "cell_type": "code",
      "execution_count": null,
      "metadata": {
        "id": "-ZYPoPFh2ys9"
      },
      "outputs": [],
      "source": [
        "import pandas as pd"
      ]
    },
    {
      "cell_type": "markdown",
      "metadata": {
        "id": "aT47b9sk2ytB"
      },
      "source": [
        "Загрузим данные из файла `\"wiki.csv\"` и сохраним их в датафрейм `wiki`, сообщив Python, что в качестве разделителя столбцов используется точка с запятой:"
      ]
    },
    {
      "cell_type": "code",
      "execution_count": null,
      "metadata": {
        "id": "CNso_NX-2ytC"
      },
      "outputs": [],
      "source": [
        "wiki = pd.read_csv(\"wiki.csv\", sep = \";\") "
      ]
    },
    {
      "cell_type": "code",
      "execution_count": null,
      "metadata": {
        "id": "E8YFRAeU2ytH"
      },
      "outputs": [],
      "source": [
        "wiki.info() # для компактности конспекта ячейка не запущена"
      ]
    },
    {
      "cell_type": "markdown",
      "metadata": {
        "id": "97L3L4iV2ytI"
      },
      "source": [
        "Итак, датафрейм довольно большой: 913 наблюдений (строк) и 53 переменных (столбцов). Какие-то столбцы содержат целые числа (`int` от `integer`), какие-то – текст (`object`, он же `string` за рамками `pandas`). \n"
      ]
    },
    {
      "cell_type": "markdown",
      "metadata": {
        "id": "ECB7D6pD2ytK"
      },
      "source": [
        "### Выбор столбцов и строк\n",
        "\n",
        "Датафрейм большой, давайте отберем из него только те столбцы, которые нам понадобятся. Выберем столбец со значениями возраста сотрудников университетов:"
      ]
    },
    {
      "cell_type": "code",
      "execution_count": null,
      "metadata": {
        "id": "mhpN_Mp62ytL",
        "outputId": "51df0b61-3422-49c9-ef89-35432606ab63"
      },
      "outputs": [
        {
          "data": {
            "text/plain": [
              "0      40\n",
              "1      42\n",
              "2      37\n",
              "3      40\n",
              "4      51\n",
              "       ..\n",
              "908    43\n",
              "909    53\n",
              "910    39\n",
              "911    40\n",
              "912    41\n",
              "Name: AGE, Length: 913, dtype: int64"
            ]
          },
          "execution_count": 3,
          "metadata": {},
          "output_type": "execute_result"
        }
      ],
      "source": [
        "wiki[\"AGE\"] "
      ]
    },
    {
      "cell_type": "markdown",
      "metadata": {
        "id": "9q1Axce_2ytQ"
      },
      "source": [
        "Теперь выберем несколько столбцов – перечислим их названия в виде списка и сохраним их в датафрейм `small`:"
      ]
    },
    {
      "cell_type": "code",
      "execution_count": null,
      "metadata": {
        "id": "fx11StEF2ytR"
      },
      "outputs": [],
      "source": [
        "small = wiki[[\"AGE\", \"GENDER\", \"YEARSEXP\", \"UNIVERSITY\", \n",
        "              \"UOC_POSITION\", \"Qu3\"]]  "
      ]
    },
    {
      "cell_type": "markdown",
      "metadata": {
        "id": "JdXMq3k32ytS"
      },
      "source": [
        "Скопируем названия столбцов переписывать, из перечня названий, который хранится в атрибуте `.columns`:"
      ]
    },
    {
      "cell_type": "code",
      "execution_count": null,
      "metadata": {
        "id": "qjPf2XyH2ytS",
        "outputId": "cdfc7dbe-5511-4eb1-aacb-4365451f0d1a"
      },
      "outputs": [
        {
          "data": {
            "text/plain": [
              "Index(['AGE', 'GENDER', 'DOMAIN', 'PhD', 'YEARSEXP', 'UNIVERSITY',\n",
              "       'UOC_POSITION', 'OTHER_POSITION', 'OTHERSTATUS', 'USERWIKI', 'PU1',\n",
              "       'PU2', 'PU3', 'PEU1', 'PEU2', 'PEU3', 'ENJ1', 'ENJ2', 'Qu1', 'Qu2',\n",
              "       'Qu3', 'Qu4', 'Qu5', 'Vis1', 'Vis2', 'Vis3', 'Im1', 'Im2', 'Im3', 'SA1',\n",
              "       'SA2', 'SA3', 'Use1', 'Use2', 'Use3', 'Use4', 'Use5', 'Pf1', 'Pf2',\n",
              "       'Pf3', 'JR1', 'JR2', 'BI1', 'BI2', 'Inc1', 'Inc2', 'Inc3', 'Inc4',\n",
              "       'Exp1', 'Exp2', 'Exp3', 'Exp4', 'Exp5'],\n",
              "      dtype='object')"
            ]
          },
          "execution_count": 5,
          "metadata": {},
          "output_type": "execute_result"
        }
      ],
      "source": [
        "wiki.columns"
      ]
    },
    {
      "cell_type": "markdown",
      "metadata": {
        "id": "euXvNwT52ytU"
      },
      "source": [
        "Теперь займемся строками. Оставим в датафрейме `small` только строки, соответствующие сотрудникам Открытого университета Каталонии (закодированы значением 1 в столбце `UNIVERSITY`):"
      ]
    },
    {
      "cell_type": "code",
      "execution_count": null,
      "metadata": {
        "id": "4FycCtGh2ytV"
      },
      "outputs": [],
      "source": [
        "small = small[small[\"UNIVERSITY\"] == 1]"
      ]
    },
    {
      "cell_type": "code",
      "execution_count": null,
      "metadata": {
        "id": "ce1YE03Q2ytX",
        "outputId": "20988fdd-0ce0-4c5b-ad00-e79a8ed666d7"
      },
      "outputs": [
        {
          "data": {
            "text/plain": [
              "0      True\n",
              "1      True\n",
              "2      True\n",
              "3      True\n",
              "4      True\n",
              "       ... \n",
              "795    True\n",
              "796    True\n",
              "797    True\n",
              "798    True\n",
              "799    True\n",
              "Name: UNIVERSITY, Length: 800, dtype: bool"
            ]
          },
          "execution_count": 7,
          "metadata": {},
          "output_type": "execute_result"
        }
      ],
      "source": [
        "small[\"UNIVERSITY\"] == 1"
      ]
    },
    {
      "cell_type": "markdown",
      "metadata": {
        "id": "ldo7sHXk2ytY"
      },
      "source": [
        "Строка кода в предыдущей ячейке отбирает те строки из `small`, где выражение в квадратных скобках вернуло `True`. \n",
        "\n",
        "Теперь отберем только сотрудников, имеющих должность *lecturer* или *assistant* (метки  \"3\" или \"4\") и сохраним их в датафрейм `tiny`. Для этого нам понадобится оператор `|`, соответствующий объединению условий через ИЛИ (хотя бы одно из условий верно):"
      ]
    },
    {
      "cell_type": "code",
      "execution_count": null,
      "metadata": {
        "id": "mMBeekLX2ytY"
      },
      "outputs": [],
      "source": [
        "tiny = small[(small[\"UOC_POSITION\"] == '3') | \n",
        "             (small[\"UOC_POSITION\"] == '4')]"
      ]
    },
    {
      "cell_type": "markdown",
      "metadata": {
        "id": "WlxjYSGR2ytZ"
      },
      "source": [
        "Удалим из `tiny` столбец с названием университета (у нас сотрудники только одного, у всех одно и то же значение) и столбец с должностями сотрудников. Для этого воспользуемся методом `.drop()`."
      ]
    },
    {
      "cell_type": "code",
      "execution_count": null,
      "metadata": {
        "id": "lcmmVlYO2yta"
      },
      "outputs": [],
      "source": [
        "tiny = tiny.drop(columns = [\"UNIVERSITY\", \"UOC_POSITION\"])"
      ]
    },
    {
      "cell_type": "markdown",
      "metadata": {
        "id": "EddJ2Cez2yta"
      },
      "source": [
        "Метод `.drop()` по умолчанию работает со строками, поэтому в скобках мы указываем, что удалять нужно все-таки столбцы, а затем перечисляем их названия в виде списка. Этот метод не вносит изменения в датафрейм, он возвращает его измененную копию. Сохраняем эту копию с тем же названием `tiny`."
      ]
    },
    {
      "cell_type": "markdown",
      "metadata": {
        "id": "EUmckDvi2ytb"
      },
      "source": [
        "## Часть 2: описание данных"
      ]
    },
    {
      "cell_type": "markdown",
      "metadata": {
        "id": "BmSoSf962ytb"
      },
      "source": [
        "Посмотрим теперь на более содержательное описание данных. Запросим описательные статистики через метод `.describe()`:"
      ]
    },
    {
      "cell_type": "code",
      "execution_count": null,
      "metadata": {
        "id": "uwnSBTdn2ytc",
        "outputId": "da39e553-e834-44e4-8cac-6a24c5177786"
      },
      "outputs": [
        {
          "data": {
            "text/html": [
              "<div>\n",
              "<style scoped>\n",
              "    .dataframe tbody tr th:only-of-type {\n",
              "        vertical-align: middle;\n",
              "    }\n",
              "\n",
              "    .dataframe tbody tr th {\n",
              "        vertical-align: top;\n",
              "    }\n",
              "\n",
              "    .dataframe thead th {\n",
              "        text-align: right;\n",
              "    }\n",
              "</style>\n",
              "<table border=\"1\" class=\"dataframe\">\n",
              "  <thead>\n",
              "    <tr style=\"text-align: right;\">\n",
              "      <th></th>\n",
              "      <th>AGE</th>\n",
              "      <th>GENDER</th>\n",
              "    </tr>\n",
              "  </thead>\n",
              "  <tbody>\n",
              "    <tr>\n",
              "      <td>count</td>\n",
              "      <td>68.000000</td>\n",
              "      <td>68.000000</td>\n",
              "    </tr>\n",
              "    <tr>\n",
              "      <td>mean</td>\n",
              "      <td>40.382353</td>\n",
              "      <td>0.544118</td>\n",
              "    </tr>\n",
              "    <tr>\n",
              "      <td>std</td>\n",
              "      <td>6.376331</td>\n",
              "      <td>0.501753</td>\n",
              "    </tr>\n",
              "    <tr>\n",
              "      <td>min</td>\n",
              "      <td>29.000000</td>\n",
              "      <td>0.000000</td>\n",
              "    </tr>\n",
              "    <tr>\n",
              "      <td>25%</td>\n",
              "      <td>35.000000</td>\n",
              "      <td>0.000000</td>\n",
              "    </tr>\n",
              "    <tr>\n",
              "      <td>50%</td>\n",
              "      <td>40.000000</td>\n",
              "      <td>1.000000</td>\n",
              "    </tr>\n",
              "    <tr>\n",
              "      <td>75%</td>\n",
              "      <td>45.250000</td>\n",
              "      <td>1.000000</td>\n",
              "    </tr>\n",
              "    <tr>\n",
              "      <td>max</td>\n",
              "      <td>56.000000</td>\n",
              "      <td>1.000000</td>\n",
              "    </tr>\n",
              "  </tbody>\n",
              "</table>\n",
              "</div>"
            ],
            "text/plain": [
              "             AGE     GENDER\n",
              "count  68.000000  68.000000\n",
              "mean   40.382353   0.544118\n",
              "std     6.376331   0.501753\n",
              "min    29.000000   0.000000\n",
              "25%    35.000000   0.000000\n",
              "50%    40.000000   1.000000\n",
              "75%    45.250000   1.000000\n",
              "max    56.000000   1.000000"
            ]
          },
          "execution_count": 10,
          "metadata": {},
          "output_type": "execute_result"
        }
      ],
      "source": [
        "tiny.describe() "
      ]
    },
    {
      "cell_type": "markdown",
      "metadata": {
        "id": "jQQrH2kM2ytc"
      },
      "source": [
        "Метод `.describe()` по умолчанию выводит описательные статистики только для числовых столбцов (типы `integer` и `float`). Для столбца `AGE` все полученные значения имеют понятный смысл: \n",
        "\n",
        "* `count`: число заполненных ячеек 68;\n",
        "* `mean` : средний возраст сотрудников примерно 40 лет;\n",
        "* `std` : стандартное отклонение возраста примерно 6 лет;\n",
        "* `50%`: возраст половины сотрудников также не превышает 40 лет (медиана); \n",
        "* `25%`: 25% сотрудников не старше 35 лет (нижний квартиль);\n",
        "* `75%`: 75% сотрудников не старше 45 лет (верхний квартиль);\n",
        "* `min` и `max`: самому молодому сотруднику 29 лет, самому пожилому – 56.\n",
        "\n",
        "Для столбца `GENDER` не все статистики стоит внимательно изучать, все-таки пол – показатель качественный, но на среднее стоит посмотреть – это просто доля «единиц» в нашей выборке, то есть доля мужчин среди опрошенных (примерно 54%)."
      ]
    },
    {
      "cell_type": "markdown",
      "metadata": {
        "id": "BbjfxCJ-2ytf"
      },
      "source": [
        "Если мы хотим получить описание текстовых столбцов (если все нормально с типами данных, это показатели в качественной или порядковой шкале), в `.describe()` можно добавить опцию `include` и указать соответствующий тип:"
      ]
    },
    {
      "cell_type": "code",
      "execution_count": null,
      "metadata": {
        "id": "986SmP3M2ytg",
        "outputId": "ccf11a8f-350b-4792-daa9-876e9899cf99"
      },
      "outputs": [
        {
          "data": {
            "text/html": [
              "<div>\n",
              "<style scoped>\n",
              "    .dataframe tbody tr th:only-of-type {\n",
              "        vertical-align: middle;\n",
              "    }\n",
              "\n",
              "    .dataframe tbody tr th {\n",
              "        vertical-align: top;\n",
              "    }\n",
              "\n",
              "    .dataframe thead th {\n",
              "        text-align: right;\n",
              "    }\n",
              "</style>\n",
              "<table border=\"1\" class=\"dataframe\">\n",
              "  <thead>\n",
              "    <tr style=\"text-align: right;\">\n",
              "      <th></th>\n",
              "      <th>YEARSEXP</th>\n",
              "      <th>Qu3</th>\n",
              "    </tr>\n",
              "  </thead>\n",
              "  <tbody>\n",
              "    <tr>\n",
              "      <td>count</td>\n",
              "      <td>68</td>\n",
              "      <td>68</td>\n",
              "    </tr>\n",
              "    <tr>\n",
              "      <td>unique</td>\n",
              "      <td>20</td>\n",
              "      <td>6</td>\n",
              "    </tr>\n",
              "    <tr>\n",
              "      <td>top</td>\n",
              "      <td>12</td>\n",
              "      <td>3</td>\n",
              "    </tr>\n",
              "    <tr>\n",
              "      <td>freq</td>\n",
              "      <td>8</td>\n",
              "      <td>32</td>\n",
              "    </tr>\n",
              "  </tbody>\n",
              "</table>\n",
              "</div>"
            ],
            "text/plain": [
              "       YEARSEXP Qu3\n",
              "count        68  68\n",
              "unique       20   6\n",
              "top          12   3\n",
              "freq          8  32"
            ]
          },
          "execution_count": 11,
          "metadata": {},
          "output_type": "execute_result"
        }
      ],
      "source": [
        "tiny.describe(include = \"object\")"
      ]
    },
    {
      "cell_type": "markdown",
      "metadata": {
        "id": "FWNDH6qU2ytg"
      },
      "source": [
        "Посмотрим на `Qu3`. В строке `unique` сохранено число уникальных значений, здесь из 6 (согласие/несогласие с утверждением по шкале Лайкерта и значение для кодирования пропусков). В строке `top` хранится мода, самое частое значение, здесь это 3 (*Neither disagree nor agree*, что ожидаемо). В строке `freq` находится частота, соответствующая моде, в данном случае ответ 3 выбрали 32 человека. \n",
        "\n",
        "Теперь посмотрим, что не так с `YEARSEXP`. Выведем уникальные значения:"
      ]
    },
    {
      "cell_type": "code",
      "execution_count": null,
      "metadata": {
        "id": "GJ1c55pg2yth",
        "outputId": "4768935e-c870-4156-a050-1e543a5f93c0"
      },
      "outputs": [
        {
          "data": {
            "text/plain": [
              "array(['13', '8', '17', '11', '12', '25', '10', '9', '5', '?', '18', '15',\n",
              "       '19', '4', '7', '20', '3', '16', '6', '2'], dtype=object)"
            ]
          },
          "execution_count": 12,
          "metadata": {},
          "output_type": "execute_result"
        }
      ],
      "source": [
        "tiny[\"YEARSEXP\"].unique() "
      ]
    },
    {
      "cell_type": "markdown",
      "metadata": {
        "id": "B_jgjRcb2yth"
      },
      "source": [
        "Проблема в знаке вопроса – так в этих данных были закодированы пропущенные ответы. Выкинем строки с пропущенными ответами – выберем только те строки, где значение в столбце `YEARSEXP` не `?`:"
      ]
    },
    {
      "cell_type": "code",
      "execution_count": null,
      "metadata": {
        "id": "WvxSjs_S2yti"
      },
      "outputs": [],
      "source": [
        "tiny = tiny[tiny[\"YEARSEXP\"] != \"?\"] "
      ]
    },
    {
      "cell_type": "markdown",
      "metadata": {
        "id": "j-tBA18V2yti"
      },
      "source": [
        "Проверим:"
      ]
    },
    {
      "cell_type": "code",
      "execution_count": null,
      "metadata": {
        "id": "VvvoghIS2ytj",
        "outputId": "10671514-9565-4c1d-b7c6-c6b71331437a"
      },
      "outputs": [
        {
          "data": {
            "text/plain": [
              "array(['13', '8', '17', '11', '12', '25', '10', '9', '5', '18', '15',\n",
              "       '19', '4', '7', '20', '3', '16', '6', '2'], dtype=object)"
            ]
          },
          "execution_count": 14,
          "metadata": {},
          "output_type": "execute_result"
        }
      ],
      "source": [
        "tiny[\"YEARSEXP\"].unique() "
      ]
    },
    {
      "cell_type": "markdown",
      "metadata": {
        "id": "4L8cYHQb2ytj"
      },
      "source": [
        "Лишнее выкинулось, но проблема осталась. Значения по-прежнему текстовые. Воспользуемся\n",
        " методом `.astype()`, он умеет изменять тип сразу всех элементов массива или столбца:"
      ]
    },
    {
      "cell_type": "code",
      "execution_count": null,
      "metadata": {
        "id": "5sPUIBgQ2ytj"
      },
      "outputs": [],
      "source": [
        "tiny[\"YEARSEXP\"] = tiny[\"YEARSEXP\"].astype(int) # переделываем в integer"
      ]
    },
    {
      "cell_type": "markdown",
      "metadata": {
        "id": "K0QkL5LK2ytk"
      },
      "source": [
        "Выведем описательные статистики по группам. Сгруппируем всех респондентов в `tiny` по полу и выведем среднее значение для числовых столбцов. Для этого воспользуемся методом `.groupby()` для группировки и методом `.agg()` для агрегирования (внутри указываем, какую функцию для каждой группы применить – здесь функцию для вычисления среднего):"
      ]
    },
    {
      "cell_type": "code",
      "execution_count": null,
      "metadata": {
        "id": "0HgB8DJp2ytk",
        "outputId": "7a7fe1f8-3d3b-4cf1-b6b2-e1163a9fb0fe"
      },
      "outputs": [
        {
          "data": {
            "text/html": [
              "<div>\n",
              "<style scoped>\n",
              "    .dataframe tbody tr th:only-of-type {\n",
              "        vertical-align: middle;\n",
              "    }\n",
              "\n",
              "    .dataframe tbody tr th {\n",
              "        vertical-align: top;\n",
              "    }\n",
              "\n",
              "    .dataframe thead th {\n",
              "        text-align: right;\n",
              "    }\n",
              "</style>\n",
              "<table border=\"1\" class=\"dataframe\">\n",
              "  <thead>\n",
              "    <tr style=\"text-align: right;\">\n",
              "      <th></th>\n",
              "      <th>AGE</th>\n",
              "      <th>YEARSEXP</th>\n",
              "    </tr>\n",
              "    <tr>\n",
              "      <th>GENDER</th>\n",
              "      <th></th>\n",
              "      <th></th>\n",
              "    </tr>\n",
              "  </thead>\n",
              "  <tbody>\n",
              "    <tr>\n",
              "      <td>0</td>\n",
              "      <td>41.689655</td>\n",
              "      <td>11.310345</td>\n",
              "    </tr>\n",
              "    <tr>\n",
              "      <td>1</td>\n",
              "      <td>39.222222</td>\n",
              "      <td>10.333333</td>\n",
              "    </tr>\n",
              "  </tbody>\n",
              "</table>\n",
              "</div>"
            ],
            "text/plain": [
              "              AGE   YEARSEXP\n",
              "GENDER                      \n",
              "0       41.689655  11.310345\n",
              "1       39.222222  10.333333"
            ]
          },
          "execution_count": 16,
          "metadata": {},
          "output_type": "execute_result"
        }
      ],
      "source": [
        "tiny.groupby(\"GENDER\").agg(\"mean\")"
      ]
    },
    {
      "cell_type": "markdown",
      "metadata": {
        "id": "KNf4Ipab2ytl"
      },
      "source": [
        "Итак, видно, что средние значения возраста сотрудников мужского и женского пола отличаются несильно. То же верно и для числа лет опыта работы. Посмотрим на медианные значения по группам:"
      ]
    },
    {
      "cell_type": "code",
      "execution_count": null,
      "metadata": {
        "id": "Sv8cI1ae2ytl",
        "outputId": "ba38e067-eca4-412a-9208-89fcbe3f4b1f"
      },
      "outputs": [
        {
          "data": {
            "text/html": [
              "<div>\n",
              "<style scoped>\n",
              "    .dataframe tbody tr th:only-of-type {\n",
              "        vertical-align: middle;\n",
              "    }\n",
              "\n",
              "    .dataframe tbody tr th {\n",
              "        vertical-align: top;\n",
              "    }\n",
              "\n",
              "    .dataframe thead th {\n",
              "        text-align: right;\n",
              "    }\n",
              "</style>\n",
              "<table border=\"1\" class=\"dataframe\">\n",
              "  <thead>\n",
              "    <tr style=\"text-align: right;\">\n",
              "      <th></th>\n",
              "      <th>AGE</th>\n",
              "      <th>YEARSEXP</th>\n",
              "    </tr>\n",
              "    <tr>\n",
              "      <th>GENDER</th>\n",
              "      <th></th>\n",
              "      <th></th>\n",
              "    </tr>\n",
              "  </thead>\n",
              "  <tbody>\n",
              "    <tr>\n",
              "      <td>0</td>\n",
              "      <td>41</td>\n",
              "      <td>10</td>\n",
              "    </tr>\n",
              "    <tr>\n",
              "      <td>1</td>\n",
              "      <td>40</td>\n",
              "      <td>11</td>\n",
              "    </tr>\n",
              "  </tbody>\n",
              "</table>\n",
              "</div>"
            ],
            "text/plain": [
              "        AGE  YEARSEXP\n",
              "GENDER               \n",
              "0        41        10\n",
              "1        40        11"
            ]
          },
          "execution_count": 17,
          "metadata": {},
          "output_type": "execute_result"
        }
      ],
      "source": [
        "tiny.groupby(\"GENDER\").agg(\"median\")"
      ]
    },
    {
      "cell_type": "markdown",
      "metadata": {
        "id": "7nGV6aRY2ytm"
      },
      "source": [
        "Примерно та же история. Чисто технически, метод `.agg()` можно было опустить и написать код проще:"
      ]
    },
    {
      "cell_type": "code",
      "execution_count": null,
      "metadata": {
        "id": "b5wFwtIP2ytm",
        "outputId": "fc4664f5-d60a-4a85-d54e-3458a8bc6bdb"
      },
      "outputs": [
        {
          "data": {
            "text/html": [
              "<div>\n",
              "<style scoped>\n",
              "    .dataframe tbody tr th:only-of-type {\n",
              "        vertical-align: middle;\n",
              "    }\n",
              "\n",
              "    .dataframe tbody tr th {\n",
              "        vertical-align: top;\n",
              "    }\n",
              "\n",
              "    .dataframe thead th {\n",
              "        text-align: right;\n",
              "    }\n",
              "</style>\n",
              "<table border=\"1\" class=\"dataframe\">\n",
              "  <thead>\n",
              "    <tr style=\"text-align: right;\">\n",
              "      <th></th>\n",
              "      <th>AGE</th>\n",
              "      <th>YEARSEXP</th>\n",
              "    </tr>\n",
              "    <tr>\n",
              "      <th>GENDER</th>\n",
              "      <th></th>\n",
              "      <th></th>\n",
              "    </tr>\n",
              "  </thead>\n",
              "  <tbody>\n",
              "    <tr>\n",
              "      <td>0</td>\n",
              "      <td>41</td>\n",
              "      <td>10</td>\n",
              "    </tr>\n",
              "    <tr>\n",
              "      <td>1</td>\n",
              "      <td>40</td>\n",
              "      <td>11</td>\n",
              "    </tr>\n",
              "  </tbody>\n",
              "</table>\n",
              "</div>"
            ],
            "text/plain": [
              "        AGE  YEARSEXP\n",
              "GENDER               \n",
              "0        41        10\n",
              "1        40        11"
            ]
          },
          "execution_count": 18,
          "metadata": {},
          "output_type": "execute_result"
        }
      ],
      "source": [
        "tiny.groupby(\"GENDER\").median()"
      ]
    },
    {
      "cell_type": "markdown",
      "metadata": {
        "id": "BQB7bf7_2ytn"
      },
      "source": [
        "Но этот метод все-таки более универсальный, он позволяет выводить сразу несколько характеристик для каждой группы. В таком случае соответствующие функции нужно записывать в виде списка:"
      ]
    },
    {
      "cell_type": "code",
      "execution_count": null,
      "metadata": {
        "id": "Gs-GvUsv2ytn",
        "outputId": "7a5ab5c5-d692-4d95-9705-89141a62fa8e"
      },
      "outputs": [
        {
          "data": {
            "text/html": [
              "<div>\n",
              "<style scoped>\n",
              "    .dataframe tbody tr th:only-of-type {\n",
              "        vertical-align: middle;\n",
              "    }\n",
              "\n",
              "    .dataframe tbody tr th {\n",
              "        vertical-align: top;\n",
              "    }\n",
              "\n",
              "    .dataframe thead tr th {\n",
              "        text-align: left;\n",
              "    }\n",
              "\n",
              "    .dataframe thead tr:last-of-type th {\n",
              "        text-align: right;\n",
              "    }\n",
              "</style>\n",
              "<table border=\"1\" class=\"dataframe\">\n",
              "  <thead>\n",
              "    <tr>\n",
              "      <th></th>\n",
              "      <th colspan=\"2\" halign=\"left\">AGE</th>\n",
              "      <th colspan=\"2\" halign=\"left\">YEARSEXP</th>\n",
              "    </tr>\n",
              "    <tr>\n",
              "      <th></th>\n",
              "      <th>mean</th>\n",
              "      <th>std</th>\n",
              "      <th>mean</th>\n",
              "      <th>std</th>\n",
              "    </tr>\n",
              "    <tr>\n",
              "      <th>GENDER</th>\n",
              "      <th></th>\n",
              "      <th></th>\n",
              "      <th></th>\n",
              "      <th></th>\n",
              "    </tr>\n",
              "  </thead>\n",
              "  <tbody>\n",
              "    <tr>\n",
              "      <td>0</td>\n",
              "      <td>41.689655</td>\n",
              "      <td>6.724706</td>\n",
              "      <td>11.310345</td>\n",
              "      <td>4.575583</td>\n",
              "    </tr>\n",
              "    <tr>\n",
              "      <td>1</td>\n",
              "      <td>39.222222</td>\n",
              "      <td>5.836394</td>\n",
              "      <td>10.333333</td>\n",
              "      <td>5.466783</td>\n",
              "    </tr>\n",
              "  </tbody>\n",
              "</table>\n",
              "</div>"
            ],
            "text/plain": [
              "              AGE             YEARSEXP          \n",
              "             mean       std       mean       std\n",
              "GENDER                                          \n",
              "0       41.689655  6.724706  11.310345  4.575583\n",
              "1       39.222222  5.836394  10.333333  5.466783"
            ]
          },
          "execution_count": 19,
          "metadata": {},
          "output_type": "execute_result"
        }
      ],
      "source": [
        "tiny.groupby(\"GENDER\").agg([\"mean\", \"std\"]) "
      ]
    },
    {
      "cell_type": "markdown",
      "metadata": {
        "id": "ygFL0KkD2yto"
      },
      "source": [
        "Итак, мы вывели среднее и стандартное отклонение – распространенные характеристики выборок."
      ]
    },
    {
      "cell_type": "markdown",
      "metadata": {
        "id": "lLu1RUyL2yto"
      },
      "source": [
        "## Часть 3: визуализация"
      ]
    },
    {
      "cell_type": "markdown",
      "metadata": {
        "id": "MB-l8Yl_2yto"
      },
      "source": [
        "Для создания разных типов графиков нам понадобится библиотека `matplotlib`, а точнее, основной ее модуль, под названием `pyplot`. "
      ]
    },
    {
      "cell_type": "code",
      "execution_count": null,
      "metadata": {
        "id": "RooFjClB2ytp"
      },
      "outputs": [],
      "source": [
        "from matplotlib import pyplot as plt"
      ]
    },
    {
      "cell_type": "markdown",
      "metadata": {
        "id": "7JtEtOkU2ytp"
      },
      "source": [
        "### Гистограмма\n",
        "\n",
        "Начнем визуализацую с гистограммы.\n",
        "\n",
        "Для начала построим самую простую гистограмму для визуализации распределения возраста. Для этого из модуля `plt` вызовем функцию `.hist()`. Изменим цвет заливки (`color`) и добавим цвет границ столбцов (`edgecolor`). Также поделим гистограмму на 8 столбцов.\n"
      ]
    },
    {
      "cell_type": "code",
      "execution_count": null,
      "metadata": {
        "id": "rWr9F-gO2yts",
        "outputId": "7b1ba174-a123-44f3-ecda-003cc0cbc023"
      },
      "outputs": [
        {
          "data": {
            "image/png": "[encoded data removed]",
            "text/plain": [
              "<Figure size 432x288 with 1 Axes>"
            ]
          },
          "metadata": {
            "needs_background": "light"
          },
          "output_type": "display_data"
        }
      ],
      "source": [
        "plt.hist(tiny[\"AGE\"], color = \"#2d2966\", edgecolor = \"white\", bins = 8);"
      ]
    },
    {
      "cell_type": "markdown",
      "metadata": {
        "id": "owNzVrDj2ytx"
      },
      "source": [
        "Проинтерпретируем полученный график. Распределение возраста сотрудников университета в должности преподавателя или ассистента немного скошено вправо, значения выше 50 лет являются не совсем типичными. Возраст большинства преподавателей и ассистентов находится на интервале от 40 до 42 лет."
      ]
    },
    {
      "cell_type": "markdown",
      "metadata": {
        "id": "sCA_3h7d2ytx"
      },
      "source": [
        "## Диаграмма рассеивания"
      ]
    },
    {
      "cell_type": "markdown",
      "metadata": {
        "id": "zMLekI342ytx"
      },
      "source": [
        "Построим диаграмму рассеивания, которая покажет нам связь между двумя количественными показателями — возрастом и числом лет опыта работы. Для построения такой диаграммы используется простая функция `plot()`, но нужно добавить аргумент, который будет соответствовать только точкам:\n"
      ]
    },
    {
      "cell_type": "code",
      "execution_count": null,
      "metadata": {
        "id": "BeI7rr692yt0",
        "outputId": "2d987550-f221-4a4b-f55e-208badedf24a"
      },
      "outputs": [
        {
          "data": {
            "text/plain": [
              "[<matplotlib.lines.Line2D at 0x1202aab10>]"
            ]
          },
          "execution_count": 31,
          "metadata": {},
          "output_type": "execute_result"
        },
        {
          "data": {
            "image/png": "[encoded data removed]",
            "text/plain": [
              "<Figure size 432x288 with 1 Axes>"
            ]
          },
          "metadata": {
            "needs_background": "light"
          },
          "output_type": "display_data"
        }
      ],
      "source": [
        "plt.plot(tiny[\"AGE\"], tiny[\"YEARSEXP\"], 'o')"
      ]
    },
    {
      "cell_type": "markdown",
      "metadata": {
        "id": "3svAlGAm2yt0"
      },
      "source": [
        "Построим более красивый график (скорректируем размер, цвет, добавим подписи и сетку):"
      ]
    },
    {
      "cell_type": "code",
      "execution_count": null,
      "metadata": {
        "id": "bZ-IPFZg2yt1",
        "outputId": "a3131a23-3251-4365-9b53-9529187b1912"
      },
      "outputs": [
        {
          "data": {
            "image/png": "[encoded data removed]",
            "text/plain": [
              "<Figure size 1152x648 with 1 Axes>"
            ]
          },
          "metadata": {
            "needs_background": "light"
          },
          "output_type": "display_data"
        }
      ],
      "source": [
        "fig, ax = plt.subplots(figsize =(16, 9))\n",
        "\n",
        "plt.plot(tiny[\"AGE\"], tiny[\"YEARSEXP\"], 'o', color = \"#2d2966\")\n",
        "ax.set_xlabel(\"Age\")\n",
        "ax.set_ylabel(\"Years of experience\")\n",
        "\n",
        "ax.set_axisbelow(True)\n",
        "ax.grid(b = True, color ='grey', linestyle = '-.', \n",
        "        linewidth = 0.5, alpha = 0.4)"
      ]
    },
    {
      "cell_type": "markdown",
      "metadata": {
        "id": "3FCzt6ps2yt1"
      },
      "source": [
        "Итак, судя по графику, связь между показателями есть, и она положительна. У более старших сотрудников число лет опыта работы больше (что вполне логично)."
      ]
    },
    {
      "cell_type": "markdown",
      "metadata": {
        "id": "SwYILorG2yt1"
      },
      "source": [
        "## Матрица диаграмм рассеивания\n",
        "\n",
        "Построим другой график — матрицу диаграмм рассеивания. \n",
        "Для этого нам понадобится функция `scatter_matrix()` из модуля для графики `plotting` внутри библиотеки `pandas`. "
      ]
    },
    {
      "cell_type": "code",
      "execution_count": null,
      "metadata": {
        "id": "pGYIHvjj2yt2",
        "outputId": "6fbb43c0-d7cb-47fa-99d3-4d1aa9936bc5"
      },
      "outputs": [
        {
          "data": {
            "image/png": "[encoded data removed]",
            "text/plain": [
              "<Figure size 432x288 with 4 Axes>"
            ]
          },
          "metadata": {
            "needs_background": "light"
          },
          "output_type": "display_data"
        }
      ],
      "source": [
        "# извлекаем столбцы AGE и YEARSEXP\n",
        "\n",
        "pd.plotting.scatter_matrix(tiny[[\"AGE\", \"YEARSEXP\"]]);"
      ]
    },
    {
      "cell_type": "markdown",
      "metadata": {
        "id": "-Gh6HF_F2yt2"
      },
      "source": [
        "Этот график преставляет собой матрицу (сетку или таблицу), которая содержит симметричные диаграммы рассеивания (`AGE` на `YEARSEXP` в нижнем углу и `YEARSEXP` на `AGE` в верхнем углу) и гистограммы на главной диагонали. "
      ]
    },
    {
      "cell_type": "markdown",
      "metadata": {
        "id": "Ih0kcaJQ2yt4"
      },
      "source": [
        "## Столбиковая диаграмма"
      ]
    },
    {
      "cell_type": "markdown",
      "metadata": {
        "id": "ThNTz9AX2yt4"
      },
      "source": [
        "Подготовим таблицу с частотами. Для этого можно воспользуемся методом `.value_counts()`. Выведем таблицу частот для столбца `Qu3`, степени согласия с утверждением *Articles in Wikipedia are comprehensive*:"
      ]
    },
    {
      "cell_type": "code",
      "execution_count": null,
      "metadata": {
        "id": "FNhqB5nI2yt5",
        "outputId": "391aecc7-0791-495e-84c5-d1823140a190"
      },
      "outputs": [
        {
          "data": {
            "text/plain": [
              "3    30\n",
              "2    16\n",
              "4    14\n",
              "5     2\n",
              "1     2\n",
              "?     1\n",
              "Name: Qu3, dtype: int64"
            ]
          },
          "execution_count": 36,
          "metadata": {},
          "output_type": "execute_result"
        }
      ],
      "source": [
        "tiny[\"Qu3\"].value_counts()"
      ]
    },
    {
      "cell_type": "markdown",
      "metadata": {
        "id": "yS5mpNmC2yt5"
      },
      "source": [
        "Итак, в таблице записаны категории и соответствующие им частоты (30 ответов 3, 16 ответов 2, и так далее), причем категории упорядочены от самой частой до самой редкой.\n",
        "\n",
        "Полученный результат – это объект типа `pandas.Series`, то есть просто столбец с данными, где у каждого значения есть индекс (номер). \n",
        "\n",
        "Сохраним полученную таблицу в переменную `tab` и извлечем из нее названия категорий и частоты:"
      ]
    },
    {
      "cell_type": "code",
      "execution_count": null,
      "metadata": {
        "id": "Z4Q_BQ7r2yt5"
      },
      "outputs": [],
      "source": [
        "tab = tiny[\"Qu3\"].value_counts()\n",
        "vals = tab.index  # категории\n",
        "freqs = tab.values  # частоты"
      ]
    },
    {
      "cell_type": "code",
      "execution_count": null,
      "metadata": {
        "id": "Vy_7W0H42yt6",
        "outputId": "4ce00df2-1c45-4558-f26b-b5fd01a0bc50"
      },
      "outputs": [
        {
          "data": {
            "text/plain": [
              "Index(['3', '2', '4', '5', '1', '?'], dtype='object')"
            ]
          },
          "execution_count": 38,
          "metadata": {},
          "output_type": "execute_result"
        }
      ],
      "source": [
        "vals"
      ]
    },
    {
      "cell_type": "code",
      "execution_count": null,
      "metadata": {
        "id": "Hl-Pnfyo2yt6",
        "outputId": "c14a3015-936b-4c9c-eae3-b73508779223"
      },
      "outputs": [
        {
          "data": {
            "text/plain": [
              "array([30, 16, 14,  2,  2,  1])"
            ]
          },
          "execution_count": 39,
          "metadata": {},
          "output_type": "execute_result"
        }
      ],
      "source": [
        "freqs"
      ]
    },
    {
      "cell_type": "markdown",
      "metadata": {
        "id": "p10aYy7h2yt6"
      },
      "source": [
        "Сейчас можно выбрать, какие значения располагать по горизонтальной и вертикальной осям. Для построения столбиковой диаграммы используем функцию `bar()`:"
      ]
    },
    {
      "cell_type": "code",
      "execution_count": null,
      "metadata": {
        "id": "6GUV35PF2yt7",
        "outputId": "6c14e531-553a-42c4-a95d-4a0ac91fbeb6"
      },
      "outputs": [
        {
          "data": {
            "image/png": "[encoded data removed]",
            "text/plain": [
              "<Figure size 432x288 with 1 Axes>"
            ]
          },
          "metadata": {
            "needs_background": "light"
          },
          "output_type": "display_data"
        }
      ],
      "source": [
        "plt.bar(vals, freqs);"
      ]
    },
    {
      "cell_type": "markdown",
      "metadata": {
        "id": "l7k66XGS2yt7"
      },
      "source": [
        "Столбики упорядочены вполне разумным образом, от самого популярного ответа до наименее популярного. Оформим график.\n"
      ]
    },
    {
      "cell_type": "code",
      "execution_count": null,
      "metadata": {
        "id": "ZZ7K_SaA2yt7",
        "outputId": "580b2f23-79b9-4365-b1e6-7ef49871ce47"
      },
      "outputs": [
        {
          "data": {
            "image/png": "[encoded data removed]",
            "text/plain": [
              "<Figure size 1152x648 with 1 Axes>"
            ]
          },
          "metadata": {
            "needs_background": "light"
          },
          "output_type": "display_data"
        }
      ],
      "source": [
        "fig, ax = plt.subplots(figsize =(16, 9)) \n",
        "\n",
        "ax.bar(vals, freqs, \n",
        "       color = [\"#7e0f12\", \"#b71a3b\", \"#bc6d4c\", \n",
        "                \"#6a7045\",  \"#313c33\", \"black\"],\n",
        "      tick_label = [\"Neither agree\\nnor disagree\", \n",
        "                    \"Disagree\", \n",
        "                    \"Agree\", \n",
        "                    \"Strongly\\ndisagree\",\n",
        "                    \"Strongly\\nagree\", \n",
        "                    \"No answer\"])\n",
        "\n",
        "# добавляем подписи\n",
        "\n",
        "ax.set_title(\"Articles in Wikipedia are comprehensive\", loc = 'left')\n",
        "ax.set_ylabel(\"Counts\")\n",
        "\n",
        "# добавляем сетку\n",
        "\n",
        "ax.set_axisbelow(True)\n",
        "ax.grid(b = True, color ='grey', linestyle = '-.', \n",
        "        linewidth = 0.5, alpha = 0.4)"
      ]
    }
  ],
  "metadata": {
    "kernelspec": {
      "display_name": "Python 3",
      "language": "python",
      "name": "python3"
    },
    "language_info": {
      "codemirror_mode": {
        "name": "ipython",
        "version": 3
      },
      "file_extension": ".py",
      "mimetype": "text/x-python",
      "name": "python",
      "nbconvert_exporter": "python",
      "pygments_lexer": "ipython3",
      "version": "3.7.4"
    },
    "colab": {
      "provenance": []
    }
  },
  "nbformat": 4,
  "nbformat_minor": 0
}